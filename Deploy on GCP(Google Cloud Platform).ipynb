{
 "cells": [
  {
   "cell_type": "code",
   "execution_count": null,
   "metadata": {},
   "outputs": [],
   "source": [
    "Here we required 3 main things :                                                                                            \n",
    "1.main application file name must be \"main.py\" like we name it app.py, here use main.py,                                    \n",
    "bcoz google cloud looks for main file.                                                                                    \n",
    "\n",
    "2.a file create name \"app.yaml\" , it specifies what is the runtime of python environment.                                  \n",
    "In this file type >>                                                                                                       \n",
    "runtime : python3.6               # python and its version which are using\n",
    "    \n",
    "# runtime: custom          # or type this both\n",
    "# env: flex \n",
    "\n",
    "3.file \"requirements.txt\" create, where all libraries listed to installation."
   ]
  },
  {
   "cell_type": "code",
   "execution_count": null,
   "metadata": {},
   "outputs": [],
   "source": [
    "1.goto : console.cloud.google.com          # signup and create an account activate 'free trial'\n",
    "\n",
    "2.Now on Google Cloud Platform, in navigation menu, click on \"IAM & Admin\" then \"Manage Resources\"\n",
    "new window opens it shows all projects created.\n",
    "3.Here we create a new project \"Create Project\" , give name of project and 'create' it.\n",
    "\n",
    "4.Now in navigation menu, goto \"App Engine\" then \"Dashboard\"  (or open Dashboard of 'new project' created)."
   ]
  },
  {
   "cell_type": "code",
   "execution_count": null,
   "metadata": {},
   "outputs": [],
   "source": [
    "In order to deploy the code from (cmd prompt / project folder) , 1st install google cloud sdk installer from here :\n",
    "    \n",
    "https://dl.google.com/dl/cloudsdk/channels/rapid/GoogleCloudSDKInstaller.exe\n",
    "    \n",
    "download and install it."
   ]
  },
  {
   "cell_type": "code",
   "execution_count": null,
   "metadata": {},
   "outputs": [],
   "source": [
    "5.Open cmd prompt , and goto project folder location directory in cmd prompt\n",
    "\n",
    "6.In cmd > gcloud init             # login and select project to work on\n",
    "\n",
    "7.In cmd > gcloud app deploy app.yaml --project salaryest        \n",
    "# 'salaryest' project name, give inplace of it your project name, it deploy project, \n",
    "# select region '4' asia-south1"
   ]
  },
  {
   "cell_type": "code",
   "execution_count": null,
   "metadata": {},
   "outputs": [],
   "source": [
    "8.after the deployment gives url for app, open it and check to run.\n",
    "\n",
    "9.After it goto \"App Engine\" then \"settings\" and \"Disable application\" , bcoz it get charged so diable it."
   ]
  },
  {
   "cell_type": "code",
   "execution_count": null,
   "metadata": {},
   "outputs": [],
   "source": []
  },
  {
   "cell_type": "code",
   "execution_count": null,
   "metadata": {},
   "outputs": [],
   "source": []
  }
 ],
 "metadata": {
  "kernelspec": {
   "display_name": "Python 3",
   "language": "python",
   "name": "python3"
  },
  "language_info": {
   "codemirror_mode": {
    "name": "ipython",
    "version": 3
   },
   "file_extension": ".py",
   "mimetype": "text/x-python",
   "name": "python",
   "nbconvert_exporter": "python",
   "pygments_lexer": "ipython3",
   "version": "3.6.8"
  }
 },
 "nbformat": 4,
 "nbformat_minor": 2
}
