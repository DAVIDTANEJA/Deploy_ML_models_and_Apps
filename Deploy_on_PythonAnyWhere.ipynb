{
 "cells": [
  {
   "cell_type": "markdown",
   "metadata": {},
   "source": [
    "app created :  http://davidtaneja.pythonanywhere.com/"
   ]
  },
  {
   "cell_type": "code",
   "execution_count": null,
   "metadata": {},
   "outputs": [],
   "source": [
    "1. goto : https://www.pythonanywhere.com/     and there signup and  \" Create a Begginer account \".\n",
    "2.Opens Dashboard.\n",
    "\n",
    "3.Click on \"Web\" it opens a new window.\n",
    "4.click on \"Add a new web app\",   then it provides a url for app like : DavidTaneja.pythonanywhere.com\n",
    "    If you want custom url then click on \"Upgrade now\"\n",
    "5.Click on below \"next\"  and then select a platform where app is made on, here we are using 'Flask' click on it.\n",
    "6.Select python version and then it creates default '../../flask_app.py'  and then click on 'next'.\n",
    "7.finally web app created\n",
    "8.It gives url like : Configuration for \"DavidTaneja.pythonanywhere.com\"  you can run on new browser to check by default app."
   ]
  },
  {
   "cell_type": "code",
   "execution_count": null,
   "metadata": {},
   "outputs": [],
   "source": [
    "9.Now goto \"Files\" section\n",
    "10.Here we put all app files in 'mysite' folder on left side, click on it. \n",
    "It shows 'flask_app.py' file delete it now no need of it.\n",
    "\n",
    "11.Now comes \"Upload a file\"  if we use it this, then we have to upload one by one all files and also we have folders.\n",
    "    ** so it solution is **  \"create a zip file\"\n",
    "    \n",
    "12.goto app project folder here using : \"todo_list_app\" right click on it, add to archive, click on 'zip' then 'ok'\n",
    "    creates a zip file of that folder.\n",
    "13.Now goto \"Upload a file\" and upload a zip file, here we unzip it bcoz its an linux virtual machine."
   ]
  },
  {
   "cell_type": "code",
   "execution_count": null,
   "metadata": {},
   "outputs": [],
   "source": [
    "14.Now goto \"Consoles\" click on it. If any console running in \"Your consoles:\" then close/kill it.\n",
    "now above \"Start a new console:\"  click on : \"Bash\"  (It opens a console screen of virtual linux environment).\n",
    "    \n",
    "15.type > ls      # shows folder on which you are like here : mysite\n",
    "    type > pwd   # shows current location\n",
    "    \n",
    "Now go into mysite folder \n",
    "    type > cd mysite   \n",
    "    type > ls              # shows zip file in it. \n",
    "    \n",
    "Now unzip that file here\n",
    "    type > unzip todo_list_app.zip      # execute it\n",
    "    type > ls                           # Now see here it creates a folder of that zip file\n",
    "    \n",
    "Now see in \"Files\"    refresh it, created a folder and it has all files."
   ]
  },
  {
   "cell_type": "code",
   "execution_count": null,
   "metadata": {},
   "outputs": [],
   "source": [
    "If any 'app.py' run on pickle model file 'model.pkl'\n",
    "\n",
    "16.In \"Files\"  open 'app.py' file in new window, give it to full path : '/home/DavidTaneja/mysite/todo_list_app/'\n",
    "    where we load model :  \n",
    "    model = pickle.load('model.pkl', 'rb')\n",
    "    \n",
    "--> model = pickle.load('/home/DavidTaneja/mysite/todo_list_app/model.pkl', 'rb')       # change it to full path\n",
    "\n",
    "and \"Save\" it on right side and close it window."
   ]
  },
  {
   "cell_type": "code",
   "execution_count": null,
   "metadata": {},
   "outputs": [],
   "source": [
    "17.goto \"Web\" section , here we pass files location\n",
    "below in \"Code\"\n",
    "--> Source Code : mysite/todo_list_app        # add project folder name\n",
    "--> WSGI configuration file :   \n",
    "    project_home = u'/home/DavidTaneja/mysite/todo_list_app'  # here also add project folder name\n",
    "    \n",
    "# its running 'flask_app' we have to change 'app' bcoz our file name is 'app.py' it asks initial name, change it to app\n",
    "    from flask_app import app as application  \n",
    "    \n",
    "--> from app import app as application      # 'app'  name changed  \n",
    "\n",
    "Save it , now app is ready to run."
   ]
  },
  {
   "cell_type": "code",
   "execution_count": null,
   "metadata": {},
   "outputs": [],
   "source": [
    "18.Now goto back or \"Web\" section  and  \"Reload:\" click on it , now app is ready."
   ]
  },
  {
   "cell_type": "code",
   "execution_count": null,
   "metadata": {},
   "outputs": [],
   "source": [
    "19.Configuration for : DavidTaneja.pythonanywhere.com      # shows url open in new window and run app."
   ]
  },
  {
   "cell_type": "code",
   "execution_count": null,
   "metadata": {},
   "outputs": [],
   "source": [
    "It allows for 3 months on free account to run app , \n",
    "in \"Web\" section a yellow button \"Run until 3 months from today\"\n",
    "click on it again it extends the date."
   ]
  }
 ],
 "metadata": {
  "kernelspec": {
   "display_name": "Python 3",
   "language": "python",
   "name": "python3"
  },
  "language_info": {
   "codemirror_mode": {
    "name": "ipython",
    "version": 3
   },
   "file_extension": ".py",
   "mimetype": "text/x-python",
   "name": "python",
   "nbconvert_exporter": "python",
   "pygments_lexer": "ipython3",
   "version": "3.6.8"
  }
 },
 "nbformat": 4,
 "nbformat_minor": 2
}
