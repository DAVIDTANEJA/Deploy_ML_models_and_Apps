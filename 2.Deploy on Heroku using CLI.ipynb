{
 "cells": [
  {
   "cell_type": "code",
   "execution_count": null,
   "metadata": {},
   "outputs": [],
   "source": [
    "1.goto heroku, click on \"New\" then \"Create new app\" , give name of app and \"Create app\" app created.\n",
    "2.It opens 'Deploy' section, In Deployment method using 'Heroku CLI'."
   ]
  },
  {
   "cell_type": "code",
   "execution_count": null,
   "metadata": {},
   "outputs": [],
   "source": [
    "3.Open cmd prompt and 'goto project folder directory' in cmd prompt\n",
    "  > D:\\flask\\todo_list_app\n",
    "\n",
    "4.1st install \"Heroku CLI\"                        # In cmd > heroku update  , if update\n",
    "In cmd > heroku login        \n",
    "# press enter\n",
    "# opens new page for authentication 'Login' click on it, then Close this page.\n",
    "\n",
    "5.In cmd > git init        # initialize git in project folder"
   ]
  },
  {
   "cell_type": "code",
   "execution_count": null,
   "metadata": {},
   "outputs": [],
   "source": [
    "6.In cmd > heroku git:remote -a todolistapp5        # access remote 'todolistapp5' <- app name\n",
    "    \n",
    "\n",
    "7.\n",
    "In cmd > git config core.autocrlf true\n",
    "\n",
    "In cmd > git add .                             # add the repository\n",
    "\n",
    "\n",
    "8.In cmd > git commit -am \"make it better\"       # push all the files to master folder\n",
    "\n",
    "9.In cmd > git push heroku master              \n",
    "# compile app and install all libraries in 'requirements.txt' and provide url link for app.\n",
    "# also found the url link of app in Settings"
   ]
  },
  {
   "cell_type": "code",
   "execution_count": null,
   "metadata": {},
   "outputs": [],
   "source": []
  },
  {
   "cell_type": "code",
   "execution_count": null,
   "metadata": {},
   "outputs": [],
   "source": []
  },
  {
   "cell_type": "code",
   "execution_count": null,
   "metadata": {},
   "outputs": [],
   "source": []
  }
 ],
 "metadata": {
  "kernelspec": {
   "display_name": "Python 3",
   "language": "python",
   "name": "python3"
  },
  "language_info": {
   "codemirror_mode": {
    "name": "ipython",
    "version": 3
   },
   "file_extension": ".py",
   "mimetype": "text/x-python",
   "name": "python",
   "nbconvert_exporter": "python",
   "pygments_lexer": "ipython3",
   "version": "3.6.8"
  }
 },
 "nbformat": 4,
 "nbformat_minor": 2
}
