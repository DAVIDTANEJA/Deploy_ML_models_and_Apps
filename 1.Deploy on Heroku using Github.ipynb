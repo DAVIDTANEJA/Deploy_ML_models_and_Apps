{
 "cells": [
  {
   "cell_type": "markdown",
   "metadata": {},
   "source": [
    "https://github.com/DAVIDTANEJA/Deployment_Demo_Heroku"
   ]
  },
  {
   "cell_type": "markdown",
   "metadata": {},
   "source": [
    "#### Deployment of Flask api on Heroku server :\n",
    "Simply by uploading the code files/folder on github (creating new repository),                                           \n",
    "Goto 'Heroku.com' Sign up/in and Create new app.                                                                          \n",
    "In Deployment method 'Connect to github' and upload the files and app is created & hosted on Heroku server.                 \n",
    "\n",
    "#### For Heroku 2 files must needed\n",
    "1.requirements.txt : for the essential libraries that Heroku will installed it automatically.                             \n",
    "2.Procfile : which tells about the 'web:gunicorn' and app file name & app name (app.py)  \"app:app\".                        \n",
    "In Procfile name 'P' capital, and in this write this only                                                                \n",
    "web: gunicorn app:app"
   ]
  },
  {
   "cell_type": "code",
   "execution_count": null,
   "metadata": {},
   "outputs": [],
   "source": [
    "1.goto heroku, signup create an account, goto \"Personal\".\n",
    "\n",
    "2.click on \"New\" then \"Create new app\" on it. Then give app name , click on 'create app'.\n",
    "app created new page open."
   ]
  },
  {
   "cell_type": "code",
   "execution_count": null,
   "metadata": {},
   "outputs": [],
   "source": [
    "3.Now in Deployment method : use 'Github' method, \n",
    "but 1st goto github, upload project folder on github (or create repository of it.)\n",
    "It msut have 2 files : \n",
    "\"requirements.txt\" : all libraries\n",
    "\"Procfile\"  : web: gunicorn app:app    "
   ]
  },
  {
   "cell_type": "code",
   "execution_count": null,
   "metadata": {},
   "outputs": [],
   "source": [
    "4.Now go back to hroku app\n",
    "click on \"connect to github\"\n",
    "It asks below 'repo-name' , give repository folder name and click on 'Search' and then 'Connect' below it.\n",
    "Then below it 'Manual Display' click on 'Deploy Branch', it install 1st all libraries and then deployed.\n",
    "It shows below \"View\" button click on it, it takes you to web api created."
   ]
  }
 ],
 "metadata": {
  "kernelspec": {
   "display_name": "Python 3",
   "language": "python",
   "name": "python3"
  },
  "language_info": {
   "codemirror_mode": {
    "name": "ipython",
    "version": 3
   },
   "file_extension": ".py",
   "mimetype": "text/x-python",
   "name": "python",
   "nbconvert_exporter": "python",
   "pygments_lexer": "ipython3",
   "version": "3.6.8"
  }
 },
 "nbformat": 4,
 "nbformat_minor": 2
}
